{
 "cells": [
  {
   "cell_type": "code",
   "execution_count": 1,
   "metadata": {},
   "outputs": [],
   "source": [
    "import cv2\n",
    "import os\n",
    "import numpy as np\n",
    "import matplotlib.pyplot as plt"
   ]
  },
  {
   "cell_type": "code",
   "execution_count": 2,
   "metadata": {},
   "outputs": [
    {
     "name": "stdout",
     "output_type": "stream",
     "text": [
      "(20, 100, 100, 3) Amit.npy\n",
      "(20, 100, 100, 3) prateek.npy\n"
     ]
    }
   ],
   "source": [
    "X = []\n",
    "Y = []\n",
    "\n",
    "d = {}\n",
    "cnt = 0\n",
    "\n",
    "for f in os.listdir():\n",
    "    if f.endswith(\".npy\"):\n",
    "        imgs = np.load(f)\n",
    "        print(imgs.shape,f)\n",
    "        X.append(imgs)\n",
    "        labels = np.ones((imgs.shape[0]))*cnt\n",
    "        Y.append(labels)\n",
    "        \n",
    "        d[cnt] = f[:-4]\n",
    "        cnt +=1"
   ]
  },
  {
   "cell_type": "code",
   "execution_count": 3,
   "metadata": {},
   "outputs": [
    {
     "name": "stdout",
     "output_type": "stream",
     "text": [
      "(40, 100, 100, 3) (40,)\n",
      "{0: 'Amit', 1: 'prateek'}\n"
     ]
    }
   ],
   "source": [
    "X = np.array(X)\n",
    "Y = np.array(Y)\n",
    "\n",
    "X = X.reshape((40,100,100,3))\n",
    "Y = Y.reshape((40,))\n",
    "print(X.shape,Y.shape)\n",
    "print(d)"
   ]
  },
  {
   "cell_type": "code",
   "execution_count": 4,
   "metadata": {},
   "outputs": [],
   "source": [
    "def dist(p1,p2):\n",
    "    return np.sum((p1-p2)**2)**.5\n",
    "\n",
    "def KNN(X,Y,test_point,k=5):\n",
    "    \n",
    "    d = []\n",
    "    m = X.shape[0]\n",
    "    #1 - Distance of test_point from all points\n",
    "    for i in range(m):\n",
    "        current_dist = dist(test_point,X[i])\n",
    "        d.append((current_dist,Y[i]))\n",
    "        \n",
    "    # 2 - Sort \n",
    "    d = sorted(d)\n",
    "    # 3 - Pick the first k points\n",
    "    d = d[:k]\n",
    "\n",
    "    # 4 - Create an numpy array \n",
    "    d = np.array(d)\n",
    "    \n",
    "    d = d[:,1]\n",
    "    #print(d)\n",
    "    # 5 - Find out uniq classes and counts\n",
    "    uniq,cnts = np.unique(d,return_counts=True)\n",
    "    idx = np.argmax(cnts)\n",
    "    # 6 -  Find the label with maximum cnt\n",
    "    pred = uniq[idx]\n",
    "    # Mapping indices to classname\n",
    "    return int(pred)\n",
    "    \n"
   ]
  },
  {
   "cell_type": "code",
   "execution_count": 5,
   "metadata": {},
   "outputs": [],
   "source": [
    "detector = cv2.CascadeClassifier('Datasets/FaceCascade/templatedata.xml')\n",
    "camera = cv2.VideoCapture(0)"
   ]
  },
  {
   "cell_type": "code",
   "execution_count": 6,
   "metadata": {},
   "outputs": [],
   "source": [
    "while True:\n",
    "    b,img = camera.read()\n",
    "    if b==False:\n",
    "        continue\n",
    "    # Find out faces--------------------------\n",
    "    faces = detector.detectMultiScale(img,1.3)\n",
    "    if(len(faces)==0):\n",
    "        continue\n",
    "    \n",
    "    #Predict Labels for all the faces\n",
    "    for f in faces:\n",
    "        f = faces[0]\n",
    "        x,y,w,h = f\n",
    "        green = (0,255,0)\n",
    "        cv2.rectangle(img,(x,y),(x+w,y+h),green,5)\n",
    "        crop_face = img[y:y+h,x:x+w]\n",
    "        #-save the cropped face\n",
    "        small_face = cv2.resize(crop_face,(100,100))\n",
    "        \n",
    "        #Make Predictions\n",
    "        predicted_name = d[KNN(X,Y,small_face)]\n",
    "        \n",
    "        cv2.putText(img, predicted_name, (x, y-20), cv2.FONT_HERSHEY_SIMPLEX, 1.0, (255, 255, 255), lineType=cv2.LINE_AA)\n",
    "        \n",
    "      \n",
    "    cv2.imshow(\"Image \",img)\n",
    "    key = cv2.waitKey(1)&0xFF\n",
    "    if key==ord('q'):\n",
    "        break\n",
    "    \n",
    "camera.release()   \n",
    "cv2.destroyAllWindows()"
   ]
  },
  {
   "cell_type": "code",
   "execution_count": null,
   "metadata": {},
   "outputs": [],
   "source": []
  }
 ],
 "metadata": {
  "kernelspec": {
   "display_name": "Python 3",
   "language": "python",
   "name": "python3"
  },
  "language_info": {
   "codemirror_mode": {
    "name": "ipython",
    "version": 3
   },
   "file_extension": ".py",
   "mimetype": "text/x-python",
   "name": "python",
   "nbconvert_exporter": "python",
   "pygments_lexer": "ipython3",
   "version": "3.7.3"
  }
 },
 "nbformat": 4,
 "nbformat_minor": 2
}
